{
 "cells": [
  {
   "cell_type": "code",
   "execution_count": 2,
   "metadata": {},
   "outputs": [],
   "source": [
    "import pandas as pd\n",
    "import plotly.graph_objects as go\n",
    "\n",
    "df_left = pd.read_pickle('original_turnstile_df.pkl')\n",
    "df_right = pd.read_csv('http://web.mta.info/developers/data/nyct/subway/Stations.csv')"
   ]
  },
  {
   "cell_type": "code",
   "execution_count": 4,
   "metadata": {},
   "outputs": [
    {
     "data": {
      "text/html": [
       "<div>\n",
       "<style scoped>\n",
       "    .dataframe tbody tr th:only-of-type {\n",
       "        vertical-align: middle;\n",
       "    }\n",
       "\n",
       "    .dataframe tbody tr th {\n",
       "        vertical-align: top;\n",
       "    }\n",
       "\n",
       "    .dataframe thead th {\n",
       "        text-align: right;\n",
       "    }\n",
       "</style>\n",
       "<table border=\"1\" class=\"dataframe\">\n",
       "  <thead>\n",
       "    <tr style=\"text-align: right;\">\n",
       "      <th></th>\n",
       "      <th>Station ID</th>\n",
       "      <th>Complex ID</th>\n",
       "      <th>GTFS Stop ID</th>\n",
       "      <th>Division</th>\n",
       "      <th>Line</th>\n",
       "      <th>Stop Name</th>\n",
       "      <th>Borough</th>\n",
       "      <th>Daytime Routes</th>\n",
       "      <th>Structure</th>\n",
       "      <th>GTFS Latitude</th>\n",
       "      <th>GTFS Longitude</th>\n",
       "      <th>North Direction Label</th>\n",
       "      <th>South Direction Label</th>\n",
       "    </tr>\n",
       "  </thead>\n",
       "  <tbody>\n",
       "    <tr>\n",
       "      <th>0</th>\n",
       "      <td>1</td>\n",
       "      <td>1</td>\n",
       "      <td>R01</td>\n",
       "      <td>BMT</td>\n",
       "      <td>Astoria</td>\n",
       "      <td>Astoria - Ditmars Blvd</td>\n",
       "      <td>Q</td>\n",
       "      <td>N W</td>\n",
       "      <td>Elevated</td>\n",
       "      <td>40.775036</td>\n",
       "      <td>-73.912034</td>\n",
       "      <td>NaN</td>\n",
       "      <td>Manhattan</td>\n",
       "    </tr>\n",
       "    <tr>\n",
       "      <th>1</th>\n",
       "      <td>2</td>\n",
       "      <td>2</td>\n",
       "      <td>R03</td>\n",
       "      <td>BMT</td>\n",
       "      <td>Astoria</td>\n",
       "      <td>Astoria Blvd</td>\n",
       "      <td>Q</td>\n",
       "      <td>N W</td>\n",
       "      <td>Elevated</td>\n",
       "      <td>40.770258</td>\n",
       "      <td>-73.917843</td>\n",
       "      <td>Ditmars Blvd</td>\n",
       "      <td>Manhattan</td>\n",
       "    </tr>\n",
       "    <tr>\n",
       "      <th>2</th>\n",
       "      <td>3</td>\n",
       "      <td>3</td>\n",
       "      <td>R04</td>\n",
       "      <td>BMT</td>\n",
       "      <td>Astoria</td>\n",
       "      <td>30 Av</td>\n",
       "      <td>Q</td>\n",
       "      <td>N W</td>\n",
       "      <td>Elevated</td>\n",
       "      <td>40.766779</td>\n",
       "      <td>-73.921479</td>\n",
       "      <td>Astoria - Ditmars Blvd</td>\n",
       "      <td>Manhattan</td>\n",
       "    </tr>\n",
       "    <tr>\n",
       "      <th>3</th>\n",
       "      <td>4</td>\n",
       "      <td>4</td>\n",
       "      <td>R05</td>\n",
       "      <td>BMT</td>\n",
       "      <td>Astoria</td>\n",
       "      <td>Broadway</td>\n",
       "      <td>Q</td>\n",
       "      <td>N W</td>\n",
       "      <td>Elevated</td>\n",
       "      <td>40.761820</td>\n",
       "      <td>-73.925508</td>\n",
       "      <td>Astoria - Ditmars Blvd</td>\n",
       "      <td>Manhattan</td>\n",
       "    </tr>\n",
       "    <tr>\n",
       "      <th>4</th>\n",
       "      <td>5</td>\n",
       "      <td>5</td>\n",
       "      <td>R06</td>\n",
       "      <td>BMT</td>\n",
       "      <td>Astoria</td>\n",
       "      <td>36 Av</td>\n",
       "      <td>Q</td>\n",
       "      <td>N W</td>\n",
       "      <td>Elevated</td>\n",
       "      <td>40.756804</td>\n",
       "      <td>-73.929575</td>\n",
       "      <td>Astoria - Ditmars Blvd</td>\n",
       "      <td>Manhattan</td>\n",
       "    </tr>\n",
       "    <tr>\n",
       "      <th>...</th>\n",
       "      <td>...</td>\n",
       "      <td>...</td>\n",
       "      <td>...</td>\n",
       "      <td>...</td>\n",
       "      <td>...</td>\n",
       "      <td>...</td>\n",
       "      <td>...</td>\n",
       "      <td>...</td>\n",
       "      <td>...</td>\n",
       "      <td>...</td>\n",
       "      <td>...</td>\n",
       "      <td>...</td>\n",
       "      <td>...</td>\n",
       "    </tr>\n",
       "    <tr>\n",
       "      <th>491</th>\n",
       "      <td>517</td>\n",
       "      <td>517</td>\n",
       "      <td>S15</td>\n",
       "      <td>SIR</td>\n",
       "      <td>Staten Island</td>\n",
       "      <td>Prince's Bay</td>\n",
       "      <td>SI</td>\n",
       "      <td>SIR</td>\n",
       "      <td>Open Cut</td>\n",
       "      <td>40.525507</td>\n",
       "      <td>-74.200064</td>\n",
       "      <td>St George</td>\n",
       "      <td>Tottenville</td>\n",
       "    </tr>\n",
       "    <tr>\n",
       "      <th>492</th>\n",
       "      <td>518</td>\n",
       "      <td>518</td>\n",
       "      <td>S14</td>\n",
       "      <td>SIR</td>\n",
       "      <td>Staten Island</td>\n",
       "      <td>Pleasant Plains</td>\n",
       "      <td>SI</td>\n",
       "      <td>SIR</td>\n",
       "      <td>Embankment</td>\n",
       "      <td>40.522410</td>\n",
       "      <td>-74.217847</td>\n",
       "      <td>St George</td>\n",
       "      <td>Tottenville</td>\n",
       "    </tr>\n",
       "    <tr>\n",
       "      <th>493</th>\n",
       "      <td>519</td>\n",
       "      <td>519</td>\n",
       "      <td>S13</td>\n",
       "      <td>SIR</td>\n",
       "      <td>Staten Island</td>\n",
       "      <td>Richmond Valley</td>\n",
       "      <td>SI</td>\n",
       "      <td>SIR</td>\n",
       "      <td>Open Cut</td>\n",
       "      <td>40.519631</td>\n",
       "      <td>-74.229141</td>\n",
       "      <td>St George</td>\n",
       "      <td>Tottenville</td>\n",
       "    </tr>\n",
       "    <tr>\n",
       "      <th>494</th>\n",
       "      <td>522</td>\n",
       "      <td>522</td>\n",
       "      <td>S09</td>\n",
       "      <td>SIR</td>\n",
       "      <td>Staten Island</td>\n",
       "      <td>Tottenville</td>\n",
       "      <td>SI</td>\n",
       "      <td>SIR</td>\n",
       "      <td>At Grade</td>\n",
       "      <td>40.512764</td>\n",
       "      <td>-74.251961</td>\n",
       "      <td>St George</td>\n",
       "      <td>NaN</td>\n",
       "    </tr>\n",
       "    <tr>\n",
       "      <th>495</th>\n",
       "      <td>523</td>\n",
       "      <td>523</td>\n",
       "      <td>S11</td>\n",
       "      <td>SIR</td>\n",
       "      <td>Staten Island</td>\n",
       "      <td>Arthur Kill</td>\n",
       "      <td>SI</td>\n",
       "      <td>SIR</td>\n",
       "      <td>At Grade</td>\n",
       "      <td>40.516578</td>\n",
       "      <td>-74.242096</td>\n",
       "      <td>St George</td>\n",
       "      <td>Tottenville</td>\n",
       "    </tr>\n",
       "  </tbody>\n",
       "</table>\n",
       "<p>496 rows × 13 columns</p>\n",
       "</div>"
      ],
      "text/plain": [
       "     Station ID  Complex ID GTFS Stop ID Division           Line  \\\n",
       "0             1           1          R01      BMT        Astoria   \n",
       "1             2           2          R03      BMT        Astoria   \n",
       "2             3           3          R04      BMT        Astoria   \n",
       "3             4           4          R05      BMT        Astoria   \n",
       "4             5           5          R06      BMT        Astoria   \n",
       "..          ...         ...          ...      ...            ...   \n",
       "491         517         517          S15      SIR  Staten Island   \n",
       "492         518         518          S14      SIR  Staten Island   \n",
       "493         519         519          S13      SIR  Staten Island   \n",
       "494         522         522          S09      SIR  Staten Island   \n",
       "495         523         523          S11      SIR  Staten Island   \n",
       "\n",
       "                  Stop Name Borough Daytime Routes   Structure  GTFS Latitude  \\\n",
       "0    Astoria - Ditmars Blvd       Q            N W    Elevated      40.775036   \n",
       "1              Astoria Blvd       Q            N W    Elevated      40.770258   \n",
       "2                     30 Av       Q            N W    Elevated      40.766779   \n",
       "3                  Broadway       Q            N W    Elevated      40.761820   \n",
       "4                     36 Av       Q            N W    Elevated      40.756804   \n",
       "..                      ...     ...            ...         ...            ...   \n",
       "491            Prince's Bay      SI            SIR    Open Cut      40.525507   \n",
       "492         Pleasant Plains      SI            SIR  Embankment      40.522410   \n",
       "493         Richmond Valley      SI            SIR    Open Cut      40.519631   \n",
       "494             Tottenville      SI            SIR    At Grade      40.512764   \n",
       "495             Arthur Kill      SI            SIR    At Grade      40.516578   \n",
       "\n",
       "     GTFS Longitude   North Direction Label South Direction Label  \n",
       "0        -73.912034                     NaN             Manhattan  \n",
       "1        -73.917843            Ditmars Blvd             Manhattan  \n",
       "2        -73.921479  Astoria - Ditmars Blvd             Manhattan  \n",
       "3        -73.925508  Astoria - Ditmars Blvd             Manhattan  \n",
       "4        -73.929575  Astoria - Ditmars Blvd             Manhattan  \n",
       "..              ...                     ...                   ...  \n",
       "491      -74.200064               St George           Tottenville  \n",
       "492      -74.217847               St George           Tottenville  \n",
       "493      -74.229141               St George           Tottenville  \n",
       "494      -74.251961               St George                   NaN  \n",
       "495      -74.242096               St George           Tottenville  \n",
       "\n",
       "[496 rows x 13 columns]"
      ]
     },
     "execution_count": 4,
     "metadata": {},
     "output_type": "execute_result"
    }
   ],
   "source": [
    "df_right"
   ]
  },
  {
   "cell_type": "code",
   "execution_count": 6,
   "metadata": {},
   "outputs": [
    {
     "data": {
      "text/plain": [
       "493"
      ]
     },
     "execution_count": 6,
     "metadata": {},
     "output_type": "execute_result"
    }
   ],
   "source": [
    "df_right['Station ID'].nunique()"
   ]
  },
  {
   "cell_type": "code",
   "execution_count": 7,
   "metadata": {},
   "outputs": [
    {
     "data": {
      "text/plain": [
       "445"
      ]
     },
     "execution_count": 7,
     "metadata": {},
     "output_type": "execute_result"
    }
   ],
   "source": [
    "df_right['Complex ID'].nunique()"
   ]
  },
  {
   "cell_type": "code",
   "execution_count": 8,
   "metadata": {},
   "outputs": [
    {
     "data": {
      "text/plain": [
       "496"
      ]
     },
     "execution_count": 8,
     "metadata": {},
     "output_type": "execute_result"
    }
   ],
   "source": [
    "df_right['GTFS Stop ID'].nunique()"
   ]
  },
  {
   "cell_type": "code",
   "execution_count": 9,
   "metadata": {},
   "outputs": [
    {
     "data": {
      "text/plain": [
       "377"
      ]
     },
     "execution_count": 9,
     "metadata": {},
     "output_type": "execute_result"
    }
   ],
   "source": [
    "df_right['Stop Name'].nunique()"
   ]
  },
  {
   "cell_type": "code",
   "execution_count": null,
   "metadata": {},
   "outputs": [],
   "source": []
  }
 ],
 "metadata": {
  "kernelspec": {
   "display_name": "Python 3",
   "language": "python",
   "name": "python3"
  },
  "language_info": {
   "codemirror_mode": {
    "name": "ipython",
    "version": 3
   },
   "file_extension": ".py",
   "mimetype": "text/x-python",
   "name": "python",
   "nbconvert_exporter": "python",
   "pygments_lexer": "ipython3",
   "version": "3.8.3"
  }
 },
 "nbformat": 4,
 "nbformat_minor": 4
}
