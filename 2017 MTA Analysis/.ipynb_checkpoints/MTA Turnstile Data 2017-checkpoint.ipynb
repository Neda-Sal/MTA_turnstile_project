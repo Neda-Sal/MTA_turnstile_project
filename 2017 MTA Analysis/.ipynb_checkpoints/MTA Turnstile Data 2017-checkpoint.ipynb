{
 "cells": [
  {
   "cell_type": "code",
   "execution_count": 1,
   "metadata": {},
   "outputs": [],
   "source": [
    "import pandas as pd"
   ]
  },
  {
   "cell_type": "code",
   "execution_count": null,
   "metadata": {},
   "outputs": [],
   "source": [
    "#importing the data and putting them in dataframes\n",
    "df_Sept_2 = pd.read_csv('http://web.mta.info/developers/data/nyct/turnstile/turnstile_170902.txt')\n",
    "df_Sept_9 = pd.read_csv('http://web.mta.info/developers/data/nyct/turnstile/turnstile_170909.txt')\n",
    "df_Sept_16 = pd.read_csv('http://web.mta.info/developers/data/nyct/turnstile/turnstile_170916.txt')"
   ]
  },
  {
   "cell_type": "markdown",
   "metadata": {},
   "source": [
    "Field Description\n",
    "\n",
    "C/A,UNIT,SCP,STATION,LINENAME,DIVISION,DATE,TIME,DESC,ENTRIES,EXITS\n",
    "\n",
    "\n",
    "C/A      = Control Area (A002)\n",
    "\n",
    "UNIT     = Remote Unit for a station (R051)\n",
    "\n",
    "SCP      = Subunit Channel Position represents an specific address for a device (02-00-00)\n",
    "\n",
    "STATION  = Represents the station name the device is located at\n",
    "\n",
    "LINENAME = Represents all train lines that can be boarded at this station\n",
    "\n",
    "Normally lines are represented by one character.  \n",
    "\n",
    "LINENAME 456NQR repersents train server for 4, 5, 6, N, Q, and R trains.\n",
    "\n",
    "DIVISION = Represents the Line originally the station belonged to BMT, IRT, or IND   \n",
    "\n",
    "DATE     = Represents the date (MM-DD-YY)\n",
    "\n",
    "TIME     = Represents the time (hh:mm:ss) for a scheduled audit event\n",
    "\n",
    "DESc     = Represent the \"REGULAR\" scheduled audit event (Normally occurs every 4 hours)\n",
    "\n",
    "1. Audits may occur more that 4 hours due to planning, or troubleshooting activities. \n",
    "\n",
    "2. Additionally, there may be a \"RECOVR AUD\" entry: This refers to a missed audit that was recovered. \n",
    "\n",
    "ENTRIES  = The comulative entry register value for a device\n",
    "\n",
    "EXIST    = The cumulative exit register value for a device"
   ]
  },
  {
   "cell_type": "code",
   "execution_count": null,
   "metadata": {
    "scrolled": true
   },
   "outputs": [],
   "source": [
    "#combining the data from 3 weeks into one dataframe\n",
    "df = pd.concat([df_Sept_5, df_Sept_12, df_Sept_19])"
   ]
  },
  {
   "cell_type": "code",
   "execution_count": null,
   "metadata": {},
   "outputs": [],
   "source": [
    "df"
   ]
  },
  {
   "cell_type": "code",
   "execution_count": null,
   "metadata": {},
   "outputs": [],
   "source": [
    "df.info()"
   ]
  },
  {
   "cell_type": "code",
   "execution_count": null,
   "metadata": {
    "scrolled": true
   },
   "outputs": [],
   "source": [
    "#pickle our data\n",
    "df.to_pickle('2017original_turnstile_df.pkl')\n",
    "\n",
    "#to load the data back in use\n",
    "# df_name = pd.read_pickle('original_turnstile_df.pkl')"
   ]
  },
  {
   "cell_type": "code",
   "execution_count": null,
   "metadata": {},
   "outputs": [],
   "source": []
  }
 ],
 "metadata": {
  "kernelspec": {
   "display_name": "Python 3",
   "language": "python",
   "name": "python3"
  },
  "language_info": {
   "codemirror_mode": {
    "name": "ipython",
    "version": 3
   },
   "file_extension": ".py",
   "mimetype": "text/x-python",
   "name": "python",
   "nbconvert_exporter": "python",
   "pygments_lexer": "ipython3",
   "version": "3.8.5"
  }
 },
 "nbformat": 4,
 "nbformat_minor": 4
}
